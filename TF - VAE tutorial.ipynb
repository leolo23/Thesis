{
 "cells": [
  {
   "cell_type": "markdown",
   "source": [
    "# VAE on 8x8 MNIST"
   ],
   "metadata": {
    "collapsed": false,
    "pycharm": {
     "name": "#%% md\n"
    }
   }
  },
  {
   "cell_type": "code",
   "execution_count": 1,
   "id": "941d9fd3-e031-49b2-aaa4-2178c28c9bd2",
   "metadata": {
    "pycharm": {
     "name": "#%%\n"
    }
   },
   "outputs": [
    {
     "name": "stdout",
     "output_type": "stream",
     "text": [
      "TensorFlow Version 2.11.0\n",
      "[PhysicalDevice(name='/physical_device:CPU:0', device_type='CPU')]\n"
     ]
    }
   ],
   "source": [
    "import time\n",
    "import tensorflow as tf\n",
    "from tensorflow import keras\n",
    "from tensorflow.keras import layers\n",
    "import numpy as np\n",
    "import pandas as pd\n",
    "import matplotlib\n",
    "from matplotlib import pyplot as plt\n",
    "import seaborn as sns\n",
    "import tensorflow_datasets as tfds\n",
    "\n",
    "# Quick hack to make tb highlighting configurable - https://github.com/ipython/ipython/pull/13756\n",
    "# from IPython.core.ultratb import VerboseTB\n",
    "# VerboseTB._tb_highlight = \"bg:#039dfc\"  # \"bg:#039dfc\"\n",
    "\n",
    "try:\n",
    "    plt.style.use(\"my_dracula\")\n",
    "except:\n",
    "    plt.style.use(\"default\")\n",
    "matplotlib.rcParams['figure.figsize'] = [9, 3]\n",
    "\n",
    "np.random.seed(23)\n",
    "tf.random.set_seed(23)\n",
    "print(\"TensorFlow Version \" + tf.__version__)\n",
    "print(str(tf.config.list_physical_devices()))"
   ]
  },
  {
   "cell_type": "markdown",
   "source": [
    "## My base implementations tf.keras"
   ],
   "metadata": {
    "collapsed": false,
    "pycharm": {
     "name": "#%% md\n"
    }
   }
  },
  {
   "cell_type": "markdown",
   "source": [
    "### Classes"
   ],
   "metadata": {
    "collapsed": false,
    "pycharm": {
     "name": "#%% md\n"
    }
   }
  },
  {
   "cell_type": "code",
   "execution_count": 2,
   "outputs": [],
   "source": [
    "# dense layer with flexible input shape and activation function passed\n",
    "class Dense_flex(tf.keras.layers.Layer):\n",
    "    def __init__(self, out_features, activation=None, name=None):\n",
    "        super().__init__(name=name)\n",
    "\n",
    "        self.activation = activation\n",
    "        self.out_features = out_features\n",
    "\n",
    "    def build(self, input_shape):\n",
    "        if self.activation is None:\n",
    "            initializer = \"norm_Xavier\"\n",
    "        else:\n",
    "            if self.activation._tf_api_names_v1[0] == \"nn.relu\":\n",
    "                initializer = \"He\"\n",
    "            else:\n",
    "                initializer = \"norm_Xavier\"\n",
    "\n",
    "        input_features = input_shape[-1]\n",
    "\n",
    "        if initializer == \"He\":\n",
    "            # parameter initialization with He initialization for ReLu\n",
    "            self.w = tf.Variable(tf.random.normal([input_features, self.out_features],\n",
    "                                                  stddev=np.sqrt(2/input_features)), name=\"w\")\n",
    "            self.b = tf.Variable(tf.random.normal([self.out_features], stddev=np.sqrt(2/input_features)), name=\"b\")\n",
    "        elif initializer == \"norm_Xavier\":\n",
    "            # initialize weights with normalized Xavier\n",
    "            xavier = np.sqrt(6)/np.sqrt(input_features + self.out_features)\n",
    "            self.w = tf.Variable(tf.random.uniform([input_features, self.out_features],\n",
    "                                                   minval=-xavier, maxval=xavier), name=\"w\")\n",
    "            self.b = tf.Variable(tf.random.uniform([self.out_features], minval=-xavier, maxval=xavier), name=\"b\")\n",
    "        else:\n",
    "            # should not be possible to get here\n",
    "            print(\"ERROR INITIALIZER\")\n",
    "\n",
    "    def call(self, x, training=False):\n",
    "        z = tf.matmul(x, self.w) + self.b\n",
    "        if self.activation is not None:\n",
    "            return self.activation(z)\n",
    "        else:\n",
    "            return z"
   ],
   "metadata": {
    "collapsed": false,
    "pycharm": {
     "name": "#%%\n"
    }
   }
  },
  {
   "cell_type": "markdown",
   "source": [
    "### Training"
   ],
   "metadata": {
    "collapsed": false,
    "pycharm": {
     "name": "#%% md\n"
    }
   }
  },
  {
   "cell_type": "code",
   "execution_count": 3,
   "outputs": [],
   "source": [
    "# training function using tf.data structure\n",
    "# args used to pass n_classes to cross entropy loss for classification\n",
    "@tf.function\n",
    "def train(model, data, y, loss, learning_rate):\n",
    "\n",
    "    with tf.GradientTape() as t:\n",
    "        current_loss = loss(y, model(data, training=True))\n",
    "\n",
    "    grad = t.gradient(current_loss, model.variables)\n",
    "\n",
    "    for g, var in zip(grad, model.variables):\n",
    "        var.assign_sub(learning_rate * g)"
   ],
   "metadata": {
    "collapsed": false,
    "pycharm": {
     "name": "#%%\n"
    }
   }
  },
  {
   "cell_type": "code",
   "execution_count": 4,
   "outputs": [],
   "source": [
    "# training loop\n",
    "# args used to pass n_classes to cross entropy loss for classification\n",
    "def training_loop(model, dataset, loss, learning_rate=0.01, epochs=10):\n",
    "\n",
    "    hist_loss = []\n",
    "    # hist_loss.append(loss(y, model(x)).numpy())\n",
    "\n",
    "    for epoch in range(epochs):\n",
    "        # if not epoch % 10:\n",
    "        #     print(f\"Starting {epoch = }\")\n",
    "\n",
    "        # iterate over batches\n",
    "        epoch_loss = 0\n",
    "        for step, (x_batch, y_batch) in enumerate(dataset):\n",
    "            train(model, x_batch, y_batch, loss, learning_rate)\n",
    "            current_batch_loss = loss(y_batch, model(x_batch, training=True)).numpy()\n",
    "            epoch_loss += loss(y_batch, model(x_batch, training=True)).numpy()\n",
    "\n",
    "        hist_loss.append(epoch_loss)\n",
    "\n",
    "    plt.plot(range(epochs), hist_loss)\n",
    "    plt.xlabel(\"Epoch\")\n",
    "    plt.ylabel(\"Loss\")\n",
    "    plt.title(\"Training\")\n",
    "    # plt.show()"
   ],
   "metadata": {
    "collapsed": false,
    "pycharm": {
     "name": "#%%\n"
    }
   }
  },
  {
   "cell_type": "code",
   "execution_count": 5,
   "outputs": [],
   "source": [
    "def cross_entropy_logits(y, logits):\n",
    "    if logits.shape[-1] == 1:  # case for binary classifier\n",
    "        y = tf.reshape(y, [-1, 1])\n",
    "        y = tf.cast(y, tf.float32)\n",
    "        probs = tf.nn.sigmoid(logits)\n",
    "        # y_pred = tf.reshape(y_pred, y.shape.as_list())\n",
    "        return - tf.reduce_mean(y * tf.math.log(probs) + (1. - y) * tf.math.log(1. - probs))\n",
    "    else:  # multiclass case\n",
    "        y = tf.cast(y, tf.int8)\n",
    "        y = tf.one_hot(y, logits.shape[-1], axis=-1)\n",
    "        probs = tf.nn.softmax(logits)\n",
    "        return - tf.reduce_mean(y * tf.math.log(probs))"
   ],
   "metadata": {
    "collapsed": false,
    "pycharm": {
     "name": "#%%\n"
    }
   }
  },
  {
   "cell_type": "code",
   "execution_count": 6,
   "outputs": [],
   "source": [
    "def accuracy(y_true, y_pred):\n",
    "    pred = np.argmax(y_pred, axis=1)\n",
    "    right = np.where(pred == y_true, 1, 0)\n",
    "\n",
    "    return np.sum(right)/right.shape[0]"
   ],
   "metadata": {
    "collapsed": false,
    "pycharm": {
     "name": "#%%\n"
    }
   }
  },
  {
   "cell_type": "code",
   "execution_count": 7,
   "outputs": [],
   "source": [
    "def loss_batched_dataset(model, loss, dataset):\n",
    "    pred = []\n",
    "    y_true = []\n",
    "    for step, (x_batch, y_batch) in enumerate(dataset):\n",
    "        pred.append(model(x_batch))\n",
    "        y_true.append(y_batch)\n",
    "    return loss(tf.concat(y_true, axis=0), tf.concat(pred, axis=0))"
   ],
   "metadata": {
    "collapsed": false,
    "pycharm": {
     "name": "#%%\n"
    }
   }
  },
  {
   "cell_type": "code",
   "execution_count": 8,
   "outputs": [],
   "source": [
    "def convert_model_to_functional(model, input_shape=None, name=None):\n",
    "    if input_shape is None:\n",
    "        input_shape = model.input_shape\n",
    "\n",
    "    inputs = tf.keras.Input(shape=input_shape)\n",
    "    outputs = model.call(inputs)\n",
    "    return tf.keras.Model(inputs=inputs, outputs=outputs, name=name)\n",
    "\n",
    "\n",
    "def model_summary(model, input_shape=None, name=None):\n",
    "    m = convert_model_to_functional(model, input_shape, name)\n",
    "    m.summary()\n",
    "\n",
    "\n",
    "def plot_model(model, input_shape=None, name=None, show_shapes=True, file_to_save=None):\n",
    "    m = convert_model_to_functional(model, input_shape, name)\n",
    "    if file_to_save is not None:\n",
    "        return tf.keras.utils.plot_model(m, file_to_save, show_shapes=show_shapes)\n",
    "    else:\n",
    "        return tf.keras.utils.plot_model(m, show_shapes=show_shapes)"
   ],
   "metadata": {
    "collapsed": false,
    "pycharm": {
     "name": "#%%\n"
    }
   }
  },
  {
   "cell_type": "markdown",
   "id": "7ff402d1-f15c-455d-a835-651d5fa30fec",
   "metadata": {
    "pycharm": {
     "name": "#%% md\n"
    }
   },
   "source": [
    "## Load data MNIST"
   ]
  },
  {
   "cell_type": "code",
   "execution_count": 9,
   "outputs": [],
   "source": [
    "IMG_SIZE = 8\n",
    "resize_and_rescale = tf.keras.Sequential([\n",
    "    layers.Resizing(IMG_SIZE, IMG_SIZE),\n",
    "    layers.Rescaling(1./255)\n",
    "])"
   ],
   "metadata": {
    "collapsed": false,
    "pycharm": {
     "name": "#%%\n"
    }
   }
  },
  {
   "cell_type": "code",
   "execution_count": 10,
   "outputs": [],
   "source": [
    "def show_img_ex(data, label, N=3, idx=None, normalized=True,):\n",
    "    if idx is None:\n",
    "        idx = np.random.choice(data.shape[0], N)\n",
    "    for i in range(N):\n",
    "        plt.subplot(1, N, i+1)\n",
    "        if normalized:\n",
    "            plt.imshow(data[idx[i]], cmap=\"gray\")\n",
    "        else:\n",
    "            plt.imshow(data[idx[i]]/255., cmap=\"gray\")\n",
    "        plt.title(f\"Element {idx[i]} - True label: {label[idx[i]]}\")\n",
    "        plt.axis(\"off\")\n",
    "    plt.tight_layout()"
   ],
   "metadata": {
    "collapsed": false,
    "pycharm": {
     "name": "#%%\n"
    }
   }
  },
  {
   "cell_type": "code",
   "execution_count": 11,
   "outputs": [
    {
     "data": {
      "text/plain": "(60000, 28, 28)"
     },
     "execution_count": 11,
     "metadata": {},
     "output_type": "execute_result"
    }
   ],
   "source": [
    "(x_train, y_train), (x_test, y_test) = keras.datasets.mnist.load_data()\n",
    "x_train.shape"
   ],
   "metadata": {
    "collapsed": false,
    "pycharm": {
     "name": "#%%\n"
    }
   }
  },
  {
   "cell_type": "code",
   "execution_count": 12,
   "outputs": [
    {
     "data": {
      "text/plain": "(70000, 28, 28, 1)"
     },
     "execution_count": 12,
     "metadata": {},
     "output_type": "execute_result"
    }
   ],
   "source": [
    "all_digits = np.concatenate([x_train, x_test])\n",
    "all_labels = np.concatenate([y_train, y_test])\n",
    "all_digits = np.reshape(all_digits, (-1, 28, 28, 1))\n",
    "all_digits.shape"
   ],
   "metadata": {
    "collapsed": false,
    "pycharm": {
     "name": "#%%\n"
    }
   }
  },
  {
   "cell_type": "code",
   "execution_count": 13,
   "outputs": [
    {
     "data": {
      "text/plain": "<Figure size 900x300 with 3 Axes>",
      "image/png": "[encoded data removed]"
     },
     "metadata": {},
     "output_type": "display_data"
    }
   ],
   "source": [
    "N = 3\n",
    "rnd = np.random.choice(all_digits.shape[0], N)\n",
    "plt.suptitle(\"Random examples from dataset\")\n",
    "show_img_ex(all_digits, all_labels, 3, rnd)\n",
    "plt.show()"
   ],
   "metadata": {
    "collapsed": false,
    "pycharm": {
     "name": "#%%\n"
    }
   }
  },
  {
   "cell_type": "code",
   "execution_count": 14,
   "outputs": [
    {
     "data": {
      "text/plain": "TensorShape([70000, 8, 8, 1])"
     },
     "execution_count": 14,
     "metadata": {},
     "output_type": "execute_result"
    }
   ],
   "source": [
    "all_digits = resize_and_rescale(all_digits)\n",
    "all_digits.shape"
   ],
   "metadata": {
    "collapsed": false,
    "pycharm": {
     "name": "#%%\n"
    }
   }
  },
  {
   "cell_type": "code",
   "execution_count": 15,
   "outputs": [
    {
     "data": {
      "text/plain": "<Figure size 900x300 with 3 Axes>",
      "image/png": "[encoded data removed]"
     },
     "metadata": {},
     "output_type": "display_data"
    }
   ],
   "source": [
    "plt.suptitle(\"Resized to 8x8 examples\")\n",
    "show_img_ex(all_digits, all_labels, 3, rnd)\n",
    "plt.show()"
   ],
   "metadata": {
    "collapsed": false,
    "pycharm": {
     "name": "#%%\n"
    }
   }
  },
  {
   "cell_type": "markdown",
   "source": [
    "### All digits dataset"
   ],
   "metadata": {
    "collapsed": false,
    "pycharm": {
     "name": "#%% md\n"
    }
   }
  },
  {
   "cell_type": "markdown",
   "source": [
    "**Tensorflow dataset**:\n",
    "- class: *\"tf.data.Dataset\"*\n",
    "- to create dataset from matrix/tensor/dataframe(?) \"*.from_tensor_slices(data)*\"\n",
    "- *\".cache()\"* -- can improve perormance\n",
    "- *\".shuffle(buffer_size)\"*\n",
    "- *\".batch(batch_size)\"*\n",
    "- *\".prefetch(tf.data.AUTOTUNE)\"* -- allows later elements (batches if batched) to be prepared while the current element is being processed. Can use **<u>*tf.data.AUTOTUNE*</u>** to autotune based on system. **Note: <u>prefetch operates on the elements of the input dataset.</u>** It has no concept of examples vs. batches. examples.prefetch(2) will prefetch two elements (2 examples), while examples.batch(20).prefetch(2) will prefetch 2 elements (2 batches, of 20 examples each)."
   ],
   "metadata": {
    "collapsed": false,
    "pycharm": {
     "name": "#%% md\n"
    }
   }
  },
  {
   "cell_type": "code",
   "execution_count": 16,
   "outputs": [
    {
     "data": {
      "text/plain": "<ShuffleDataset element_spec=(TensorSpec(shape=(8, 8, 1), dtype=tf.float32, name=None), TensorSpec(shape=(), dtype=tf.uint8, name=None))>"
     },
     "execution_count": 16,
     "metadata": {},
     "output_type": "execute_result"
    }
   ],
   "source": [
    "# batch_size = 64\n",
    "ds_all = tf.data.Dataset.from_tensor_slices((all_digits, all_labels))\n",
    "ds_all = ds_all.shuffle(buffer_size=1024)  # .batch(batch_size).prefetch(tf.data.AUTOTUNE)\n",
    "ds_all"
   ],
   "metadata": {
    "collapsed": false,
    "pycharm": {
     "name": "#%%\n"
    }
   }
  },
  {
   "cell_type": "markdown",
   "source": [
    "### Single digit dataset"
   ],
   "metadata": {
    "collapsed": false,
    "pycharm": {
     "name": "#%% md\n"
    }
   }
  },
  {
   "cell_type": "code",
   "execution_count": 17,
   "outputs": [
    {
     "name": "stdout",
     "output_type": "stream",
     "text": [
      "single_digit.shape = TensorShape([7877, 8, 8, 1])\n"
     ]
    },
    {
     "data": {
      "text/plain": "<Figure size 900x300 with 3 Axes>",
      "image/png": "[encoded data removed]"
     },
     "metadata": {},
     "output_type": "display_data"
    }
   ],
   "source": [
    "select_label = 1\n",
    "\n",
    "single_digit = all_digits[all_labels == select_label]\n",
    "single_label = all_labels[all_labels == select_label]\n",
    "print(f\"{single_digit.shape = }\")\n",
    "\n",
    "show_img_ex(single_digit, single_label)\n",
    "plt.show()"
   ],
   "metadata": {
    "collapsed": false,
    "pycharm": {
     "name": "#%%\n"
    }
   }
  },
  {
   "cell_type": "code",
   "execution_count": 18,
   "outputs": [
    {
     "data": {
      "text/plain": "<ShuffleDataset element_spec=TensorSpec(shape=(8, 8, 1), dtype=tf.float32, name=None)>"
     },
     "execution_count": 18,
     "metadata": {},
     "output_type": "execute_result"
    }
   ],
   "source": [
    "# batch_size = 64\n",
    "ds_single = tf.data.Dataset.from_tensor_slices(single_digit)\n",
    "ds_single = ds_single.shuffle(buffer_size=1024)  # .batch(batch_size).prefetch(tf.data.AUTOTUNE)\n",
    "ds_single"
   ],
   "metadata": {
    "collapsed": false,
    "pycharm": {
     "name": "#%%\n"
    }
   }
  },
  {
   "cell_type": "markdown",
   "source": [
    "## VAE on single digit"
   ],
   "metadata": {
    "collapsed": false,
    "pycharm": {
     "name": "#%% md\n"
    }
   }
  },
  {
   "cell_type": "markdown",
   "source": [
    "### Model implementation"
   ],
   "metadata": {
    "collapsed": false,
    "pycharm": {
     "name": "#%% md\n"
    }
   }
  },
  {
   "cell_type": "markdown",
   "source": [
    "#### With my layers"
   ],
   "metadata": {
    "collapsed": false,
    "pycharm": {
     "name": "#%% md\n"
    }
   }
  },
  {
   "cell_type": "code",
   "execution_count": 19,
   "outputs": [],
   "source": [
    "class simple_VAE(tf.keras.Model):\n",
    "    def __init__(self, latent_dim:int=1, name=\"VAE-my_layers\"):\n",
    "        super().__init__(name=name)\n",
    "\n",
    "        self.latent_dim = latent_dim\n",
    "\n",
    "        # encoder\n",
    "        self.encoder = tf.keras.Sequential(\n",
    "            [\n",
    "                layers.Flatten(),\n",
    "                Dense_flex(64, activation=tf.nn.relu),\n",
    "                Dense_flex(32, activation=tf.nn.relu),\n",
    "                Dense_flex(latent_dim + latent_dim),\n",
    "            ], name=\"encoder\"\n",
    "        )\n",
    "\n",
    "        # decoder\n",
    "        self.decoder = tf.keras.Sequential(\n",
    "            [\n",
    "                Dense_flex(32, activation=tf.nn.relu),\n",
    "                Dense_flex(64, activation=tf.nn.relu),\n",
    "                Dense_flex(64),\n",
    "                layers.Reshape(target_shape=(8, 8, 1))\n",
    "            ], name=\"decoder\"\n",
    "        )\n",
    "\n",
    "    def encode(self, x):\n",
    "        mean, log_var = tf.split(self.encoder(x), num_or_size_splits=2, axis=1)\n",
    "        return mean, log_var\n",
    "\n",
    "    def reparametrize(self, mean, log_var):\n",
    "        eps = tf.random.normal(shape=(mean.shape[0], mean.shape[1]))\n",
    "        return mean + tf.exp(.5 * log_var) * eps\n",
    "\n",
    "    def sample(self, n_samples:int=1, z=None):\n",
    "        if z is None:\n",
    "            z = tf.random.normal(shape=(n_samples, self.latent_dim))\n",
    "        return self.decode(z)\n",
    "\n",
    "    def decode(self, z, apply_sigmoid:bool=True):\n",
    "        if apply_sigmoid:\n",
    "            return tf.nn.sigmoid(self.decoder(z))\n",
    "        return self.decoder(z)\n",
    "\n",
    "    def call(self, x):\n",
    "        mean, log_var = self.encode(x)\n",
    "        return self.decode(self.reparametrize(mean, log_var))"
   ],
   "metadata": {
    "collapsed": false,
    "pycharm": {
     "name": "#%%\n"
    }
   }
  },
  {
   "cell_type": "code",
   "execution_count": 20,
   "outputs": [
    {
     "name": "stdout",
     "output_type": "stream",
     "text": [
      "Model: \"VAE-my_layers\"\n",
      "_________________________________________________________________\n",
      " Layer (type)                Output Shape              Param #   \n",
      "=================================================================\n",
      " encoder (Sequential)        (1, 2)                    6306      \n",
      "                                                                 \n",
      " decoder (Sequential)        (1, 8, 8, 1)              6336      \n",
      "                                                                 \n",
      "=================================================================\n",
      "Total params: 12,642\n",
      "Trainable params: 12,642\n",
      "Non-trainable params: 0\n",
      "_________________________________________________________________\n"
     ]
    }
   ],
   "source": [
    "test = simple_VAE(1)\n",
    "# build\n",
    "test(single_digit[:1])\n",
    "test.summary()"
   ],
   "metadata": {
    "collapsed": false,
    "pycharm": {
     "name": "#%%\n"
    }
   }
  },
  {
   "cell_type": "code",
   "execution_count": 21,
   "outputs": [
    {
     "name": "stdout",
     "output_type": "stream",
     "text": [
      "Model: \"encoder\"\n",
      "_________________________________________________________________\n",
      " Layer (type)                Output Shape              Param #   \n",
      "=================================================================\n",
      " flatten (Flatten)           (1, 64)                   0         \n",
      "                                                                 \n",
      " dense_flex (Dense_flex)     (1, 64)                   4160      \n",
      "                                                                 \n",
      " dense_flex_1 (Dense_flex)   (1, 32)                   2080      \n",
      "                                                                 \n",
      " dense_flex_2 (Dense_flex)   (1, 2)                    66        \n",
      "                                                                 \n",
      "=================================================================\n",
      "Total params: 6,306\n",
      "Trainable params: 6,306\n",
      "Non-trainable params: 0\n",
      "_________________________________________________________________\n"
     ]
    }
   ],
   "source": [
    "test.encoder.summary()"
   ],
   "metadata": {
    "collapsed": false,
    "pycharm": {
     "name": "#%%\n"
    }
   }
  },
  {
   "cell_type": "code",
   "execution_count": 22,
   "outputs": [
    {
     "name": "stdout",
     "output_type": "stream",
     "text": [
      "Model: \"decoder\"\n",
      "_________________________________________________________________\n",
      " Layer (type)                Output Shape              Param #   \n",
      "=================================================================\n",
      " dense_flex_3 (Dense_flex)   (1, 32)                   64        \n",
      "                                                                 \n",
      " dense_flex_4 (Dense_flex)   (1, 64)                   2112      \n",
      "                                                                 \n",
      " dense_flex_5 (Dense_flex)   (1, 64)                   4160      \n",
      "                                                                 \n",
      " reshape (Reshape)           (1, 8, 8, 1)              0         \n",
      "                                                                 \n",
      "=================================================================\n",
      "Total params: 6,336\n",
      "Trainable params: 6,336\n",
      "Non-trainable params: 0\n",
      "_________________________________________________________________\n"
     ]
    }
   ],
   "source": [
    "test.decoder.summary()"
   ],
   "metadata": {
    "collapsed": false,
    "pycharm": {
     "name": "#%%\n"
    }
   }
  },
  {
   "cell_type": "markdown",
   "source": [
    "#### With Keras layers"
   ],
   "metadata": {
    "collapsed": false,
    "pycharm": {
     "name": "#%% md\n"
    }
   }
  },
  {
   "cell_type": "code",
   "execution_count": 23,
   "outputs": [],
   "source": [
    "class VAE_keras(tf.keras.Model):\n",
    "    def __init__(self, latent_dim:int=1, name=\"VAE-keras_layers\"):\n",
    "        super().__init__(name=name)\n",
    "\n",
    "        self.latent_dim = latent_dim\n",
    "\n",
    "        # encoder\n",
    "        self.encoder = tf.keras.Sequential(\n",
    "            [\n",
    "                layers.InputLayer(input_shape=(8, 8, 1)),\n",
    "                layers.Flatten(\"channels_last\"),\n",
    "                layers.Dense(64, \"relu\", kernel_initializer=\"he_uniform\"),\n",
    "                layers.Dense(32, \"relu\", kernel_initializer=\"he_uniform\"),\n",
    "                layers.Dense(latent_dim + latent_dim),\n",
    "            ], name=\"encoder\"\n",
    "        )\n",
    "\n",
    "        # decoder\n",
    "        self.decoder = tf.keras.Sequential(\n",
    "            [\n",
    "                layers.InputLayer(input_shape=(latent_dim,)),\n",
    "                layers.Dense(32, \"relu\", kernel_initializer=\"he_uniform\"),\n",
    "                layers.Dense(64, \"relu\", kernel_initializer=\"he_uniform\"),\n",
    "                layers.Dense(64),\n",
    "                layers.Reshape(target_shape=(8, 8, 1))\n",
    "            ], name=\"decoder\"\n",
    "        )\n",
    "\n",
    "    def encode(self, x):\n",
    "        mean, log_var = tf.split(self.encoder(x), num_or_size_splits=2, axis=1)\n",
    "        return mean, log_var\n",
    "\n",
    "    def reparametrize(self, mean, log_var):\n",
    "        eps = tf.random.normal(shape=(mean.shape[0], mean.shape[1]))\n",
    "        return mean + tf.exp(.5 * log_var) * eps\n",
    "\n",
    "    def sample(self, n_samples:int=1, z=None):\n",
    "        if z is None:\n",
    "            z = tf.random.normal(shape=(n_samples, self.latent_dim))\n",
    "        return self.decode(z)\n",
    "\n",
    "    def decode(self, z, apply_sigmoid:bool=True):\n",
    "        if apply_sigmoid:\n",
    "            return tf.nn.sigmoid(self.decoder(z))\n",
    "        return self.decoder(z)\n",
    "\n",
    "    def call(self, x):\n",
    "        mean, log_var = self.encode(x)\n",
    "        return self.decode(self.reparametrize(mean, log_var))"
   ],
   "metadata": {
    "collapsed": false,
    "pycharm": {
     "name": "#%%\n"
    }
   }
  },
  {
   "cell_type": "code",
   "execution_count": 24,
   "outputs": [
    {
     "name": "stdout",
     "output_type": "stream",
     "text": [
      "Model: \"VAE-keras_layers\"\n",
      "_________________________________________________________________\n",
      " Layer (type)                Output Shape              Param #   \n",
      "=================================================================\n",
      " encoder (Sequential)        (None, 2)                 6306      \n",
      "                                                                 \n",
      " decoder (Sequential)        (None, 8, 8, 1)           6336      \n",
      "                                                                 \n",
      "=================================================================\n",
      "Total params: 12,642\n",
      "Trainable params: 12,642\n",
      "Non-trainable params: 0\n",
      "_________________________________________________________________\n"
     ]
    }
   ],
   "source": [
    "test = VAE_keras(1)\n",
    "# build\n",
    "test(single_digit[:1])\n",
    "test.summary()"
   ],
   "metadata": {
    "collapsed": false,
    "pycharm": {
     "name": "#%%\n"
    }
   }
  },
  {
   "cell_type": "code",
   "execution_count": 25,
   "outputs": [
    {
     "name": "stdout",
     "output_type": "stream",
     "text": [
      "Model: \"encoder\"\n",
      "_________________________________________________________________\n",
      " Layer (type)                Output Shape              Param #   \n",
      "=================================================================\n",
      " flatten_1 (Flatten)         (None, 64)                0         \n",
      "                                                                 \n",
      " dense (Dense)               (None, 64)                4160      \n",
      "                                                                 \n",
      " dense_1 (Dense)             (None, 32)                2080      \n",
      "                                                                 \n",
      " dense_2 (Dense)             (None, 2)                 66        \n",
      "                                                                 \n",
      "=================================================================\n",
      "Total params: 6,306\n",
      "Trainable params: 6,306\n",
      "Non-trainable params: 0\n",
      "_________________________________________________________________\n"
     ]
    }
   ],
   "source": [
    "test.encoder.summary()"
   ],
   "metadata": {
    "collapsed": false,
    "pycharm": {
     "name": "#%%\n"
    }
   }
  },
  {
   "cell_type": "code",
   "execution_count": 26,
   "outputs": [
    {
     "name": "stdout",
     "output_type": "stream",
     "text": [
      "Model: \"decoder\"\n",
      "_________________________________________________________________\n",
      " Layer (type)                Output Shape              Param #   \n",
      "=================================================================\n",
      " dense_3 (Dense)             (None, 32)                64        \n",
      "                                                                 \n",
      " dense_4 (Dense)             (None, 64)                2112      \n",
      "                                                                 \n",
      " dense_5 (Dense)             (None, 64)                4160      \n",
      "                                                                 \n",
      " reshape_1 (Reshape)         (None, 8, 8, 1)           0         \n",
      "                                                                 \n",
      "=================================================================\n",
      "Total params: 6,336\n",
      "Trainable params: 6,336\n",
      "Non-trainable params: 0\n",
      "_________________________________________________________________\n"
     ]
    }
   ],
   "source": [
    "test.decoder.summary()"
   ],
   "metadata": {
    "collapsed": false,
    "pycharm": {
     "name": "#%%\n"
    }
   }
  },
  {
   "cell_type": "markdown",
   "source": [
    "### Model fitting"
   ],
   "metadata": {
    "collapsed": false,
    "pycharm": {
     "name": "#%% md\n"
    }
   }
  },
  {
   "cell_type": "markdown",
   "source": [
    "#### Training functions"
   ],
   "metadata": {
    "collapsed": false,
    "pycharm": {
     "name": "#%% md\n"
    }
   }
  },
  {
   "cell_type": "markdown",
   "source": [
    "Train by maximizing ELBO with single sample estimate for the expectations."
   ],
   "metadata": {
    "collapsed": false,
    "pycharm": {
     "name": "#%% md\n"
    }
   }
  },
  {
   "cell_type": "code",
   "execution_count": 27,
   "outputs": [],
   "source": [
    "def log_normal_pdf(x, mean, log_var, red_axis=1):\n",
    "    log2pi = tf.math.log(2. * np.pi)\n",
    "    return tf.reduce_sum(- .5 * ((x - mean)**2. * tf.exp(-log_var) + log_var + log2pi), axis=red_axis)"
   ],
   "metadata": {
    "collapsed": false,
    "pycharm": {
     "name": "#%%\n"
    }
   }
  },
  {
   "cell_type": "code",
   "execution_count": 28,
   "outputs": [],
   "source": [
    "# negative elbo to minimize\n",
    "def compute_elbo_vae(model, x):\n",
    "    mean, log_var = model.encode(x)\n",
    "    z = model.reparametrize(mean, log_var)\n",
    "    x_logit = model.decode(z, apply_sigmoid=False)\n",
    "    cross_entropy = tf.nn.sigmoid_cross_entropy_with_logits(labels=x, logits=x_logit)\n",
    "    logpx_z = -tf.reduce_sum(cross_entropy, axis=[1,2,3])\n",
    "    logp_z = log_normal_pdf(z, 0., 0.)  # log_var = 0 in log_normal == var = 1 in normal\n",
    "    logqz_x = log_normal_pdf(z, mean, log_var)\n",
    "\n",
    "    return -tf.reduce_mean(logpx_z + logp_z - logqz_x)"
   ],
   "metadata": {
    "collapsed": false,
    "pycharm": {
     "name": "#%%\n"
    }
   }
  },
  {
   "cell_type": "code",
   "execution_count": 29,
   "outputs": [],
   "source": [
    "# like my implementation, but using keras optimizer class to update the model\n",
    "@tf.function\n",
    "def train_step(model, x, optimizer):\n",
    "    with tf.GradientTape() as t:\n",
    "        loss = compute_elbo_vae(model, x)\n",
    "\n",
    "    gradients = t.gradient(loss, model.trainable_variables)\n",
    "\n",
    "    optimizer.apply_gradients(zip(gradients, model.trainable_variables))\n"
   ],
   "metadata": {
    "collapsed": false,
    "pycharm": {
     "name": "#%%\n"
    }
   }
  },
  {
   "cell_type": "code",
   "execution_count": 30,
   "outputs": [],
   "source": [
    "def training_vae(model, dataset, optimizer, epochs, starting_epoch=0):\n",
    "    loss = []\n",
    "    for epoch in range(epochs):\n",
    "        start_time = time.time()\n",
    "\n",
    "        for x_batch in dataset:\n",
    "            train_step(model, x_batch, optimizer)\n",
    "            loss.append(compute_elbo_vae(model, x_batch))\n",
    "\n",
    "        print(f\"Epoch {epoch+starting_epoch+1} completed in {time.time()-start_time:.2f}s\")\n",
    "\n",
    "    plt.plot(loss)\n",
    "    plt.title(\"Batch loss\")\n",
    "    plt.ylabel(\"- ELBO\")\n",
    "    plt.xlabel(\"Mini-batch\")"
   ],
   "metadata": {
    "collapsed": false,
    "pycharm": {
     "name": "#%%\n"
    }
   }
  },
  {
   "cell_type": "code",
   "execution_count": 31,
   "outputs": [],
   "source": [
    "def generate_imgs(model, test_sample=None, n_per_sample=3):\n",
    "    if test_sample is None:\n",
    "        imgs = model.sample(n_per_sample)\n",
    "        plt.suptitle(\"Generated imgs from p(z)\")\n",
    "        for i in range(n_per_sample):\n",
    "            plt.subplot(1, n_per_sample+1, i+1)\n",
    "            plt.imshow(imgs[i], cmap=\"gray\")\n",
    "            plt.axis(\"off\")\n",
    "        plt.tight_layout()\n",
    "    else:\n",
    "        M = test_sample.shape[0]\n",
    "        N = M * (n_per_sample + 1)\n",
    "        for i in range(M):\n",
    "            for j in range(n_per_sample + 1):\n",
    "                plt.subplot(M, n_per_sample+1, i*(n_per_sample+1) + j + 1)\n",
    "                if j == 0:\n",
    "                    img = test_sample[i]\n",
    "                    plt.title(\"Input img\")\n",
    "                else:\n",
    "                    img = model(test_sample[i].numpy().reshape(1,8,8,1))[0]\n",
    "                    plt.title(\"Generated img\")\n",
    "                plt.imshow(img, cmap=\"gray\")\n",
    "                plt.axis(\"off\")\n",
    "        plt.tight_layout()\n",
    "\n",
    "def get_random_samples(data, n):\n",
    "    idx = np.random.choice(data.shape[0], n)\n",
    "    return tf.constant(np.take(data, idx, axis=0))"
   ],
   "metadata": {
    "collapsed": false,
    "pycharm": {
     "name": "#%%\n"
    }
   }
  },
  {
   "cell_type": "markdown",
   "source": [
    "#### Fitting"
   ],
   "metadata": {
    "collapsed": false,
    "pycharm": {
     "name": "#%% md\n"
    }
   }
  },
  {
   "cell_type": "code",
   "execution_count": 32,
   "outputs": [
    {
     "data": {
      "text/plain": "<PrefetchDataset element_spec=TensorSpec(shape=(None, 8, 8, 1), dtype=tf.float32, name=None)>"
     },
     "execution_count": 32,
     "metadata": {},
     "output_type": "execute_result"
    }
   ],
   "source": [
    "batch_size = 32\n",
    "dataset = ds_single.batch(batch_size).prefetch(tf.data.AUTOTUNE)\n",
    "dataset"
   ],
   "metadata": {
    "collapsed": false,
    "pycharm": {
     "name": "#%%\n"
    }
   }
  },
  {
   "cell_type": "code",
   "execution_count": 33,
   "outputs": [],
   "source": [
    "epochs = 1\n",
    "latent_dim = 1\n",
    "\n",
    "model = simple_VAE(latent_dim)\n",
    "model(single_digit[:1])  # to build model and initialize parameters\n",
    "optimizer = tf.keras.optimizers.Adam(1e-3)\n",
    "optimizer.build(model.trainable_variables)"
   ],
   "metadata": {
    "collapsed": false,
    "pycharm": {
     "name": "#%%\n"
    }
   }
  },
  {
   "cell_type": "code",
   "execution_count": 34,
   "outputs": [
    {
     "data": {
      "text/plain": "<Figure size 900x300 with 12 Axes>",
      "image/png": "[encoded data removed]"
     },
     "metadata": {},
     "output_type": "display_data"
    }
   ],
   "source": [
    "plt.suptitle(\"Untrained model\")\n",
    "generate_imgs(model, get_random_samples(single_digit, 3))\n",
    "plt.show()"
   ],
   "metadata": {
    "collapsed": false,
    "pycharm": {
     "name": "#%%\n"
    }
   }
  },
  {
   "cell_type": "code",
   "execution_count": 35,
   "outputs": [
    {
     "name": "stdout",
     "output_type": "stream",
     "text": [
      "Epoch 1 completed in 4.43s\n"
     ]
    },
    {
     "data": {
      "text/plain": "<Figure size 900x300 with 1 Axes>",
      "image/png": "[encoded data removed]"
     },
     "metadata": {},
     "output_type": "display_data"
    }
   ],
   "source": [
    "training_vae(model, dataset, optimizer, epochs)"
   ],
   "metadata": {
    "collapsed": false,
    "pycharm": {
     "name": "#%%\n"
    }
   }
  },
  {
   "cell_type": "code",
   "execution_count": 36,
   "outputs": [
    {
     "data": {
      "text/plain": "<Figure size 900x300 with 12 Axes>",
      "image/png": "[encoded data removed]"
     },
     "metadata": {},
     "output_type": "display_data"
    }
   ],
   "source": [
    "plt.suptitle(\"Trained model\")\n",
    "generate_imgs(model, get_random_samples(single_digit, 3))\n",
    "plt.show()"
   ],
   "metadata": {
    "collapsed": false,
    "pycharm": {
     "name": "#%%\n"
    }
   }
  },
  {
   "cell_type": "code",
   "execution_count": 37,
   "outputs": [
    {
     "data": {
      "text/plain": "<Figure size 900x300 with 7 Axes>",
      "image/png": "[encoded data removed]"
     },
     "metadata": {},
     "output_type": "display_data"
    }
   ],
   "source": [
    "plt.suptitle(\"Trained model\")\n",
    "generate_imgs(model, n_per_sample=7)\n",
    "plt.show()"
   ],
   "metadata": {
    "collapsed": false,
    "pycharm": {
     "name": "#%%\n"
    }
   }
  },
  {
   "cell_type": "markdown",
   "source": [
    "## Conditional VAE on all digits"
   ],
   "metadata": {
    "collapsed": false,
    "pycharm": {
     "name": "#%% md\n"
    }
   }
  },
  {
   "cell_type": "markdown",
   "source": [
    "### Model implementation"
   ],
   "metadata": {
    "collapsed": false,
    "pycharm": {
     "name": "#%% md\n"
    }
   }
  },
  {
   "cell_type": "code",
   "execution_count": 38,
   "outputs": [],
   "source": [
    "class Conditional_VAE(tf.keras.Model):\n",
    "    def __init__(self, latent_dim:int=1, classes=10, name=\"Conditional_VAE\"):\n",
    "        super().__init__(name=name)\n",
    "\n",
    "        self.latent_dim = latent_dim\n",
    "        self.classes = classes\n",
    "\n",
    "        condition = keras.Input(shape=(classes,), name=\"condition\")\n",
    "\n",
    "        # encoder\n",
    "        encoder_input = keras.Input(shape=(8,8,1), name=\"img\")\n",
    "        x = layers.Flatten(\"channels_last\")(encoder_input)\n",
    "        x = layers.Concatenate(axis=-1)([x, condition])\n",
    "        x = layers.Dense(64, \"relu\", kernel_initializer=\"he_uniform\")(x)\n",
    "        x = layers.Dense(32, \"relu\", kernel_initializer=\"he_uniform\")(x)\n",
    "        encoder_output = layers.Dense(latent_dim + latent_dim)(x)\n",
    "        self.encoder = keras.Model([encoder_input, condition], encoder_output, name=\"encoder\")\n",
    "\n",
    "        # decoder\n",
    "        decoder_input = keras.Input(shape=(latent_dim,))\n",
    "        x = layers.Concatenate(axis=-1)([decoder_input, condition])\n",
    "        x = layers.Dense(32, \"relu\", kernel_initializer=\"he_uniform\")(x)\n",
    "        x = layers.Dense(64, \"relu\", kernel_initializer=\"he_uniform\")(x)\n",
    "        x = layers.Dense(64)(x)\n",
    "        decoder_output = layers.Reshape(target_shape=(8, 8, 1))(x)\n",
    "        self.decoder = keras.Model([decoder_input, condition], decoder_output, name=\"decoder\")\n",
    "\n",
    "\n",
    "    def encode(self, x, label):\n",
    "        # better to one hot the labels on the dataset instead of in model\n",
    "        one_hot_label = tf.one_hot(label, self.classes, axis=-1)\n",
    "        mean, log_var = tf.split(self.encoder([x, one_hot_label]), num_or_size_splits=2, axis=1)\n",
    "        return mean, log_var\n",
    "\n",
    "    def reparametrize(self, mean, log_var):\n",
    "        eps = tf.random.normal(shape=(mean.shape[0], mean.shape[1]))\n",
    "        return mean + tf.exp(.5 * log_var) * eps\n",
    "\n",
    "    def sample(self, n_samples:int=1, label=None, z=None):\n",
    "        if label is None:\n",
    "            label = tf.random.uniform(shape=(n_samples,), minval=0, maxval=self.classes, dtype=tf.int32)\n",
    "        if z is None:\n",
    "            z = tf.random.normal(shape=(n_samples, self.latent_dim))\n",
    "        return self.decode(z, label)\n",
    "\n",
    "    def decode(self, z, label, apply_sigmoid:bool=True):\n",
    "        one_hot_label = tf.one_hot(label, self.classes, axis=-1)\n",
    "        if apply_sigmoid:\n",
    "            return tf.nn.sigmoid(self.decoder([z, one_hot_label]))\n",
    "        return self.decoder([z, one_hot_label])\n",
    "\n",
    "    def call(self, x, label):\n",
    "        mean, log_var = self.encode(x, label)\n",
    "        return self.decode(self.reparametrize(mean, log_var), label)"
   ],
   "metadata": {
    "collapsed": false,
    "pycharm": {
     "name": "#%%\n"
    }
   }
  },
  {
   "cell_type": "code",
   "execution_count": 39,
   "outputs": [
    {
     "name": "stdout",
     "output_type": "stream",
     "text": [
      "Model: \"Conditional_VAE\"\n",
      "_________________________________________________________________\n",
      " Layer (type)                Output Shape              Param #   \n",
      "=================================================================\n",
      " encoder (Functional)        (None, 2)                 6946      \n",
      "                                                                 \n",
      " decoder (Functional)        (None, 8, 8, 1)           6656      \n",
      "                                                                 \n",
      "=================================================================\n",
      "Total params: 13,602\n",
      "Trainable params: 13,602\n",
      "Non-trainable params: 0\n",
      "_________________________________________________________________\n"
     ]
    }
   ],
   "source": [
    "test = Conditional_VAE(1)\n",
    "# build\n",
    "test(single_digit[:1], single_label[:1])\n",
    "test.summary()"
   ],
   "metadata": {
    "collapsed": false,
    "pycharm": {
     "name": "#%%\n"
    }
   }
  },
  {
   "cell_type": "code",
   "execution_count": 40,
   "outputs": [
    {
     "name": "stdout",
     "output_type": "stream",
     "text": [
      "Model: \"encoder\"\n",
      "__________________________________________________________________________________________________\n",
      " Layer (type)                   Output Shape         Param #     Connected to                     \n",
      "==================================================================================================\n",
      " img (InputLayer)               [(None, 8, 8, 1)]    0           []                               \n",
      "                                                                                                  \n",
      " flatten_3 (Flatten)            (None, 64)           0           ['img[0][0]']                    \n",
      "                                                                                                  \n",
      " condition (InputLayer)         [(None, 10)]         0           []                               \n",
      "                                                                                                  \n",
      " concatenate (Concatenate)      (None, 74)           0           ['flatten_3[0][0]',              \n",
      "                                                                  'condition[0][0]']              \n",
      "                                                                                                  \n",
      " dense_6 (Dense)                (None, 64)           4800        ['concatenate[0][0]']            \n",
      "                                                                                                  \n",
      " dense_7 (Dense)                (None, 32)           2080        ['dense_6[0][0]']                \n",
      "                                                                                                  \n",
      " dense_8 (Dense)                (None, 2)            66          ['dense_7[0][0]']                \n",
      "                                                                                                  \n",
      "==================================================================================================\n",
      "Total params: 6,946\n",
      "Trainable params: 6,946\n",
      "Non-trainable params: 0\n",
      "__________________________________________________________________________________________________\n"
     ]
    }
   ],
   "source": [
    "test.encoder.summary()"
   ],
   "metadata": {
    "collapsed": false,
    "pycharm": {
     "name": "#%%\n"
    }
   }
  },
  {
   "cell_type": "code",
   "execution_count": 41,
   "outputs": [
    {
     "name": "stdout",
     "output_type": "stream",
     "text": [
      "Model: \"decoder\"\n",
      "__________________________________________________________________________________________________\n",
      " Layer (type)                   Output Shape         Param #     Connected to                     \n",
      "==================================================================================================\n",
      " input_3 (InputLayer)           [(None, 1)]          0           []                               \n",
      "                                                                                                  \n",
      " condition (InputLayer)         [(None, 10)]         0           []                               \n",
      "                                                                                                  \n",
      " concatenate_1 (Concatenate)    (None, 11)           0           ['input_3[0][0]',                \n",
      "                                                                  'condition[0][0]']              \n",
      "                                                                                                  \n",
      " dense_9 (Dense)                (None, 32)           384         ['concatenate_1[0][0]']          \n",
      "                                                                                                  \n",
      " dense_10 (Dense)               (None, 64)           2112        ['dense_9[0][0]']                \n",
      "                                                                                                  \n",
      " dense_11 (Dense)               (None, 64)           4160        ['dense_10[0][0]']               \n",
      "                                                                                                  \n",
      " reshape_3 (Reshape)            (None, 8, 8, 1)      0           ['dense_11[0][0]']               \n",
      "                                                                                                  \n",
      "==================================================================================================\n",
      "Total params: 6,656\n",
      "Trainable params: 6,656\n",
      "Non-trainable params: 0\n",
      "__________________________________________________________________________________________________\n"
     ]
    }
   ],
   "source": [
    "test.decoder.summary()"
   ],
   "metadata": {
    "collapsed": false,
    "pycharm": {
     "name": "#%%\n"
    }
   }
  },
  {
   "cell_type": "markdown",
   "source": [
    "### Model fitting"
   ],
   "metadata": {
    "collapsed": false,
    "pycharm": {
     "name": "#%% md\n"
    }
   }
  },
  {
   "cell_type": "markdown",
   "source": [
    "#### Training functions"
   ],
   "metadata": {
    "collapsed": false,
    "pycharm": {
     "name": "#%% md\n"
    }
   }
  },
  {
   "cell_type": "code",
   "execution_count": 42,
   "outputs": [],
   "source": [
    "def log_normal_pdf(x, mean, log_var, red_axis=1):\n",
    "    log2pi = tf.math.log(2. * np.pi)\n",
    "    return tf.reduce_sum(- .5 * ((x - mean)**2. * tf.exp(-log_var) + log_var + log2pi), axis=red_axis)"
   ],
   "metadata": {
    "collapsed": false,
    "pycharm": {
     "name": "#%%\n"
    }
   }
  },
  {
   "cell_type": "code",
   "execution_count": 43,
   "outputs": [],
   "source": [
    "# negative elbo to minimize\n",
    "def compute_elbo_cvae(model, x, y):\n",
    "    mean, log_var = model.encode(x, y)\n",
    "    z = model.reparametrize(mean, log_var)\n",
    "    x_logit = model.decode(z, y, apply_sigmoid=False)\n",
    "    cross_entropy = tf.nn.sigmoid_cross_entropy_with_logits(labels=x, logits=x_logit)\n",
    "    logpx_z = -tf.reduce_sum(cross_entropy, axis=[1,2,3])\n",
    "    logp_z = log_normal_pdf(z, 0., 0.)  # log_var = 0 in log_normal == var = 1 in normal\n",
    "    logqz_x = log_normal_pdf(z, mean, log_var)\n",
    "\n",
    "    return -tf.reduce_mean(logpx_z + logp_z - logqz_x)"
   ],
   "metadata": {
    "collapsed": false,
    "pycharm": {
     "name": "#%%\n"
    }
   }
  },
  {
   "cell_type": "code",
   "execution_count": 44,
   "outputs": [],
   "source": [
    "# like my implementation, but using keras optimizer class to update the model\n",
    "@tf.function\n",
    "def train_step_cvae(model, x, y, optimizer):\n",
    "    with tf.GradientTape() as t:\n",
    "        loss = compute_elbo_cvae(model, x, y)\n",
    "\n",
    "    gradients = t.gradient(loss, model.trainable_variables)\n",
    "\n",
    "    optimizer.apply_gradients(zip(gradients, model.trainable_variables))\n"
   ],
   "metadata": {
    "collapsed": false,
    "pycharm": {
     "name": "#%%\n"
    }
   }
  },
  {
   "cell_type": "code",
   "execution_count": 45,
   "outputs": [],
   "source": [
    "def training_cvae(model, dataset, optimizer, epochs, starting_epoch=0):\n",
    "    loss = []\n",
    "    for epoch in range(epochs):\n",
    "        start_time = time.time()\n",
    "\n",
    "        for step, (x_batch, y_batch) in enumerate(dataset):\n",
    "            train_step_cvae(model, x_batch, y_batch, optimizer)\n",
    "            loss.append(compute_elbo_cvae(model, x_batch, y_batch))\n",
    "\n",
    "        print(f\"Epoch {epoch+starting_epoch+1} completed in {time.time()-start_time:.2f}s\")\n",
    "\n",
    "    plt.plot(loss)\n",
    "    plt.title(\"Batch loss\")\n",
    "    plt.ylabel(\"- ELBO\")\n",
    "    plt.xlabel(\"Mini-batch\")"
   ],
   "metadata": {
    "collapsed": false,
    "pycharm": {
     "name": "#%%\n"
    }
   }
  },
  {
   "cell_type": "code",
   "execution_count": 46,
   "outputs": [],
   "source": [
    "def generate_imgs_cvae(model, test_sample=None, test_label=None, n_per_sample=3, gen_label=None):\n",
    "    if test_sample is None:\n",
    "        if gen_label is None:\n",
    "            gen_label = int(np.random.uniform(0, 10))\n",
    "\n",
    "        plt.suptitle(f\"Generated imgs from p(z|class={gen_label})\")\n",
    "        for i in range(n_per_sample):\n",
    "            img = model.sample(label=np.array(gen_label, dtype=np.uint8).reshape(-1))[0]\n",
    "            plt.subplot(1, n_per_sample+1, i+1)\n",
    "            plt.imshow(img, cmap=\"gray\")\n",
    "            plt.axis(\"off\")\n",
    "        plt.tight_layout()\n",
    "    else:\n",
    "        M = test_sample.shape[0]\n",
    "        N = M * (n_per_sample + 1)\n",
    "        for i in range(M):\n",
    "            for j in range(n_per_sample + 1):\n",
    "                plt.subplot(M, n_per_sample+1, i*(n_per_sample+1) + j + 1)\n",
    "                if j == 0:\n",
    "                    img = test_sample[i]\n",
    "                    plt.title(f\"Input img: {test_label[i]}\")\n",
    "                else:\n",
    "                    img = model(test_sample[i].numpy().reshape(1,8,8,1), test_label[i].numpy().reshape(-1))[0]\n",
    "                    plt.title(\"Generated img\")\n",
    "                plt.imshow(img, cmap=\"gray\")\n",
    "                plt.axis(\"off\")\n",
    "        plt.tight_layout()\n",
    "\n",
    "def get_random_samples_and_labels(data, labels, n):\n",
    "    idx = np.random.choice(data.shape[0], n)\n",
    "    return tf.constant(np.take(data, idx, axis=0)), tf.constant(np.take(labels, idx, axis=0))"
   ],
   "metadata": {
    "collapsed": false,
    "pycharm": {
     "name": "#%%\n"
    }
   }
  },
  {
   "cell_type": "markdown",
   "source": [
    "#### Fitting"
   ],
   "metadata": {
    "collapsed": false,
    "pycharm": {
     "name": "#%% md\n"
    }
   }
  },
  {
   "cell_type": "code",
   "execution_count": 47,
   "outputs": [
    {
     "data": {
      "text/plain": "<PrefetchDataset element_spec=(TensorSpec(shape=(None, 8, 8, 1), dtype=tf.float32, name=None), TensorSpec(shape=(None,), dtype=tf.uint8, name=None))>"
     },
     "execution_count": 47,
     "metadata": {},
     "output_type": "execute_result"
    }
   ],
   "source": [
    "batch_size = 128\n",
    "dataset = ds_all.batch(batch_size).prefetch(tf.data.AUTOTUNE)\n",
    "dataset"
   ],
   "metadata": {
    "collapsed": false,
    "pycharm": {
     "name": "#%%\n"
    }
   }
  },
  {
   "cell_type": "code",
   "execution_count": 48,
   "outputs": [],
   "source": [
    "epochs = 2\n",
    "latent_dim = 2\n",
    "\n",
    "model = Conditional_VAE(latent_dim)\n",
    "model(all_digits[:1], all_labels[:1])  # to build model and initialize parameters\n",
    "optimizer = tf.keras.optimizers.Adam(1e-3)\n",
    "optimizer.build(model.trainable_variables)"
   ],
   "metadata": {
    "collapsed": false,
    "pycharm": {
     "name": "#%%\n"
    }
   }
  },
  {
   "cell_type": "code",
   "execution_count": 49,
   "outputs": [
    {
     "data": {
      "text/plain": "<Figure size 900x300 with 12 Axes>",
      "image/png": "[encoded data removed]"
     },
     "metadata": {},
     "output_type": "display_data"
    }
   ],
   "source": [
    "plt.suptitle(\"Untrained model\")\n",
    "generate_imgs_cvae(model, *get_random_samples_and_labels(all_digits, all_labels, 3))\n",
    "plt.show()"
   ],
   "metadata": {
    "collapsed": false,
    "pycharm": {
     "name": "#%%\n"
    }
   }
  },
  {
   "cell_type": "code",
   "execution_count": 50,
   "outputs": [
    {
     "name": "stdout",
     "output_type": "stream",
     "text": [
      "Epoch 1 completed in 8.51s\n",
      "Epoch 2 completed in 6.78s\n"
     ]
    },
    {
     "data": {
      "text/plain": "<Figure size 900x300 with 1 Axes>",
      "image/png": "[encoded data removed]"
     },
     "metadata": {},
     "output_type": "display_data"
    }
   ],
   "source": [
    "training_cvae(model, dataset, optimizer, epochs)"
   ],
   "metadata": {
    "collapsed": false,
    "pycharm": {
     "name": "#%%\n"
    }
   }
  },
  {
   "cell_type": "code",
   "execution_count": 51,
   "outputs": [
    {
     "data": {
      "text/plain": "<Figure size 900x300 with 12 Axes>",
      "image/png": "[encoded data removed]"
     },
     "metadata": {},
     "output_type": "display_data"
    }
   ],
   "source": [
    "plt.suptitle(\"Trained model\")\n",
    "generate_imgs_cvae(model, *get_random_samples_and_labels(all_digits, all_labels, 3))\n",
    "plt.show()"
   ],
   "metadata": {
    "collapsed": false,
    "pycharm": {
     "name": "#%%\n"
    }
   }
  },
  {
   "cell_type": "code",
   "execution_count": 52,
   "outputs": [
    {
     "data": {
      "text/plain": "<Figure size 900x300 with 7 Axes>",
      "image/png": "[encoded data removed]"
     },
     "metadata": {},
     "output_type": "display_data"
    }
   ],
   "source": [
    "plt.suptitle(\"Trained model\")\n",
    "generate_imgs_cvae(model, n_per_sample=7)\n",
    "plt.show()"
   ],
   "metadata": {
    "collapsed": false,
    "pycharm": {
     "name": "#%%\n"
    }
   }
  },
  {
   "cell_type": "code",
   "execution_count": 53,
   "outputs": [
    {
     "data": {
      "text/plain": "<Figure size 1200x1200 with 30 Axes>",
      "image/png": "[encoded data removed]"
     },
     "metadata": {},
     "output_type": "display_data"
    }
   ],
   "source": [
    "n_samples = 3\n",
    "classes = 10\n",
    "plt.figure(figsize=(12,12))\n",
    "for i in range(classes):\n",
    "    for j in range(n_samples):\n",
    "        plt.subplot(classes, n_samples, i*n_samples + j+1)\n",
    "        img = model.sample(label=np.array(i, dtype=np.uint8).reshape(-1))[0]\n",
    "        plt.imshow(img, cmap=\"gray\")\n",
    "        plt.axis(\"off\")\n",
    "        plt.title(f\"Generated from p(z|class={i})\")\n",
    "\n",
    "plt.tight_layout()\n",
    "plt.show()"
   ],
   "metadata": {
    "collapsed": false,
    "pycharm": {
     "name": "#%%\n"
    }
   }
  },
  {
   "cell_type": "code",
   "execution_count": 53,
   "outputs": [],
   "source": [],
   "metadata": {
    "collapsed": false,
    "pycharm": {
     "name": "#%%\n"
    }
   }
  }
 ],
 "metadata": {
  "kernelspec": {
   "name": "python3",
   "language": "python",
   "display_name": "Python 3 (ipykernel)"
  },
  "language_info": {
   "codemirror_mode": {
    "name": "ipython",
    "version": 3
   },
   "file_extension": ".py",
   "mimetype": "text/x-python",
   "name": "python",
   "nbconvert_exporter": "python",
   "pygments_lexer": "ipython3",
   "version": "3.10.8"
  }
 },
 "nbformat": 4,
 "nbformat_minor": 5
}